{
 "cells": [
  {
   "cell_type": "code",
   "execution_count": 47,
   "metadata": {
    "collapsed": false
   },
   "outputs": [
    {
     "name": "stdout",
     "output_type": "stream",
     "text": [
      "                       Name Platform  Year_of_Release         Genre Publisher  \\\n",
      "0                Wii Sports      Wii           2006.0        Sports  Nintendo   \n",
      "1         Super Mario Bros.      NES           1985.0      Platform  Nintendo   \n",
      "2            Mario Kart Wii      Wii           2008.0        Racing  Nintendo   \n",
      "3         Wii Sports Resort      Wii           2009.0        Sports  Nintendo   \n",
      "4  Pokemon Red/Pokemon Blue       GB           1996.0  Role-Playing  Nintendo   \n",
      "\n",
      "   NA_Sales  EU_Sales  JP_Sales  Other_Sales  Global_Sales  Critic_Score  \\\n",
      "0     41.36     28.96      3.77         8.45         82.53          76.0   \n",
      "1     29.08      3.58      6.81         0.77         40.24           NaN   \n",
      "2     15.68     12.76      3.79         3.29         35.52          82.0   \n",
      "3     15.61     10.93      3.28         2.95         32.77          80.0   \n",
      "4     11.27      8.89     10.22         1.00         31.37           NaN   \n",
      "\n",
      "   Critic_Count User_Score  User_Count Developer Rating  \n",
      "0          51.0          8       322.0  Nintendo      E  \n",
      "1           NaN        NaN         NaN       NaN    NaN  \n",
      "2          73.0        8.3       709.0  Nintendo      E  \n",
      "3          73.0          8       192.0  Nintendo      E  \n",
      "4           NaN        NaN         NaN       NaN    NaN  \n"
     ]
    }
   ],
   "source": [
    "import pandas as pd\n",
    "\n",
    "sales = pd.read_csv(\"game_sales.csv\")\n",
    "print(sales.head())"
   ]
  },
  {
   "cell_type": "code",
   "execution_count": 48,
   "metadata": {
    "collapsed": false
   },
   "outputs": [
    {
     "name": "stdout",
     "output_type": "stream",
     "text": [
      "(17534, 4)                          Game       Platform  Score                Genre\n",
      "0  Wolfenstein: The New Order       Xbox One    7.8              Shooter\n",
      "1                Mario Kart 8          Wii U    9.0       Racing, Action\n",
      "2               Sportsfriends  PlayStation 3    8.7  Action, Compilation\n",
      "3               Sportsfriends  PlayStation 4    8.7  Action, Compilation\n",
      "4               Sportsfriends             PC    8.7  Action, Compilation\n"
     ]
    }
   ],
   "source": [
    "ign = pd.read_excel(\"ign.xlsx\")\n",
    "print(ign.shape, ign.head())"
   ]
  },
  {
   "cell_type": "markdown",
   "metadata": {},
   "source": []
  },
  {
   "cell_type": "code",
   "execution_count": null,
   "metadata": {
    "collapsed": true
   },
   "outputs": [],
   "source": []
  },
  {
   "cell_type": "markdown",
   "metadata": {},
   "source": [
    "Now that we have those loaded into memory, it's time to see if we can combine them... We'll see how well that works"
   ]
  },
  {
   "cell_type": "code",
   "execution_count": 49,
   "metadata": {
    "collapsed": false
   },
   "outputs": [
    {
     "name": "stdout",
     "output_type": "stream",
     "text": [
      "[7.5, 9.0, 8.5, 7.7000000000000002, 0, 9.0, 9.5, 0, 8.9000000000000004, 0]\n"
     ]
    }
   ],
   "source": [
    "ign_rating = []\n",
    "for game in sales['Name']:\n",
    "    matches = ign[ign['Game'] == game]\n",
    "    if matches.shape[0] > 0:\n",
    "        ign_rating.append(matches['Score'].iloc[0])\n",
    "    else:\n",
    "        ign_rating.append(0)\n",
    "print(ign_rating[0:10])"
   ]
  },
  {
   "cell_type": "code",
   "execution_count": 50,
   "metadata": {
    "collapsed": false
   },
   "outputs": [
    {
     "name": "stdout",
     "output_type": "stream",
     "text": [
      "                   Game Platform  Score       Genre\n",
      "8919  Super Mario Bros.      Wii    9.0  Platformer\n"
     ]
    }
   ],
   "source": [
    "# This is just a test to make sure that we can find the correct score.\n",
    "print(ign[ign['Game'] == 'Super Mario Bros.'])"
   ]
  },
  {
   "cell_type": "markdown",
   "metadata": {},
   "source": [
    "Now that we've created an array, it's time to add IGN stuff to the rest of the list, then clean up the data a little bit. That means making sure the scores that are 0s in the ign column end up as NaN, not zero so we don't have any problems."
   ]
  },
  {
   "cell_type": "code",
   "execution_count": 51,
   "metadata": {
    "collapsed": false
   },
   "outputs": [],
   "source": [
    "import numpy as np\n",
    "sales['IGN'] = ign_rating\n",
    "sales['IGN'] = sales['IGN'].replace(0, np.NaN)"
   ]
  },
  {
   "cell_type": "markdown",
   "metadata": {},
   "source": [
    "It's time to get rid of all of those pesky NaN. First we'll find out what we're dealing with, that way we can understand how much data we're losing"
   ]
  },
  {
   "cell_type": "code",
   "execution_count": 52,
   "metadata": {
    "collapsed": false
   },
   "outputs": [
    {
     "name": "stdout",
     "output_type": "stream",
     "text": [
      "                        Name Platform  Year_of_Release         Genre  \\\n",
      "1          Super Mario Bros.      NES           1985.0      Platform   \n",
      "4   Pokemon Red/Pokemon Blue       GB           1996.0  Role-Playing   \n",
      "5                     Tetris       GB           1989.0        Puzzle   \n",
      "9                  Duck Hunt      NES           1984.0       Shooter   \n",
      "10                Nintendogs       DS           2005.0    Simulation   \n",
      "\n",
      "   Publisher  NA_Sales  EU_Sales  JP_Sales  Other_Sales  Global_Sales  \\\n",
      "1   Nintendo     29.08      3.58      6.81         0.77         40.24   \n",
      "4   Nintendo     11.27      8.89     10.22         1.00         31.37   \n",
      "5   Nintendo     23.20      2.26      4.22         0.58         30.26   \n",
      "9   Nintendo     26.93      0.63      0.28         0.47         28.31   \n",
      "10  Nintendo      9.05     10.95      1.93         2.74         24.67   \n",
      "\n",
      "    Critic_Score  Critic_Count User_Score  User_Count Developer Rating  IGN  \n",
      "1            NaN           NaN        NaN         NaN       NaN    NaN  9.0  \n",
      "4            NaN           NaN        NaN         NaN       NaN    NaN  NaN  \n",
      "5            NaN           NaN        NaN         NaN       NaN    NaN  9.0  \n",
      "9            NaN           NaN        NaN         NaN       NaN    NaN  NaN  \n",
      "10           NaN           NaN        NaN         NaN       NaN    NaN  NaN  \n"
     ]
    }
   ],
   "source": [
    "rating_columns = ['IGN', 'User_Score', 'Critic_Score']\n",
    "print(sales[pd.isnull(sales['User_Score'])].head())"
   ]
  },
  {
   "cell_type": "markdown",
   "metadata": {},
   "source": [
    "We might be losing a lot, but let's give it a try and see what comes of it."
   ]
  },
  {
   "cell_type": "code",
   "execution_count": 53,
   "metadata": {
    "collapsed": false
   },
   "outputs": [
    {
     "name": "stdout",
     "output_type": "stream",
     "text": [
      "                        Name Platform  Year_of_Release     Genre Publisher  \\\n",
      "0                 Wii Sports      Wii           2006.0    Sports  Nintendo   \n",
      "2             Mario Kart Wii      Wii           2008.0    Racing  Nintendo   \n",
      "3          Wii Sports Resort      Wii           2009.0    Sports  Nintendo   \n",
      "6      New Super Mario Bros.       DS           2006.0  Platform  Nintendo   \n",
      "8  New Super Mario Bros. Wii      Wii           2009.0  Platform  Nintendo   \n",
      "\n",
      "   NA_Sales  EU_Sales  JP_Sales  Other_Sales  Global_Sales  Critic_Score  \\\n",
      "0     41.36     28.96      3.77         8.45         82.53          76.0   \n",
      "2     15.68     12.76      3.79         3.29         35.52          82.0   \n",
      "3     15.61     10.93      3.28         2.95         32.77          80.0   \n",
      "6     11.28      9.14      6.50         2.88         29.80          89.0   \n",
      "8     14.44      6.94      4.70         2.24         28.32          87.0   \n",
      "\n",
      "   Critic_Count User_Score  User_Count Developer Rating  IGN  \n",
      "0          51.0          8       322.0  Nintendo      E  7.5  \n",
      "2          73.0        8.3       709.0  Nintendo      E  8.5  \n",
      "3          73.0          8       192.0  Nintendo      E  7.7  \n",
      "6          65.0        8.5       431.0  Nintendo      E  9.5  \n",
      "8          80.0        8.4       594.0  Nintendo      E  8.9  \n"
     ]
    }
   ],
   "source": [
    "cleaned_sales = sales\n",
    "for col in rating_columns:\n",
    "    cleaned_sales = cleaned_sales[pd.notnull(cleaned_sales[col])]\n",
    "print(cleaned_sales.head())"
   ]
  },
  {
   "cell_type": "markdown",
   "metadata": {},
   "source": [
    "While we've lost a lot of sales data, it does look a lot better. For what we want to do though the ratings are essential. So let's export this data file so we can use it to visualize the data, and then do some cool analysis."
   ]
  },
  {
   "cell_type": "code",
   "execution_count": 54,
   "metadata": {
    "collapsed": true
   },
   "outputs": [],
   "source": [
    "cleaned_sales = cleaned_sales.reset_index()\n",
    "cleaned_sales.to_csv(\"cleaned_game.csv\")"
   ]
  }
 ],
 "metadata": {
  "anaconda-cloud": {},
  "kernelspec": {
   "display_name": "Python [conda root]",
   "language": "python",
   "name": "conda-root-py"
  },
  "language_info": {
   "codemirror_mode": {
    "name": "ipython",
    "version": 3
   },
   "file_extension": ".py",
   "mimetype": "text/x-python",
   "name": "python",
   "nbconvert_exporter": "python",
   "pygments_lexer": "ipython3",
   "version": "3.5.2"
  }
 },
 "nbformat": 4,
 "nbformat_minor": 2
}
